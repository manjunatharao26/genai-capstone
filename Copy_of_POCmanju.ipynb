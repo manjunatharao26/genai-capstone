{
  "metadata": {
    "kernelspec": {
      "language": "python",
      "display_name": "Python 3",
      "name": "python3"
    },
    "language_info": {
      "name": "python",
      "version": "3.10.12",
      "mimetype": "text/x-python",
      "codemirror_mode": {
        "name": "ipython",
        "version": 3
      },
      "pygments_lexer": "ipython3",
      "nbconvert_exporter": "python",
      "file_extension": ".py"
    },
    "kaggle": {
      "accelerator": "none",
      "dataSources": [
        {
          "sourceId": 11281715,
          "sourceType": "datasetVersion",
          "datasetId": 7053425
        },
        {
          "sourceId": 11281772,
          "sourceType": "datasetVersion",
          "datasetId": 7053469
        }
      ],
      "dockerImageVersionId": 30918,
      "isInternetEnabled": true,
      "language": "python",
      "sourceType": "notebook",
      "isGpuEnabled": false
    },
    "colab": {
      "provenance": [],
      "include_colab_link": true
    }
  },
  "nbformat_minor": 0,
  "nbformat": 4,
  "cells": [
    {
      "cell_type": "markdown",
      "metadata": {
        "id": "view-in-github",
        "colab_type": "text"
      },
      "source": [
        "<a href=\"https://colab.research.google.com/github/manjunatharao26/genai-capstone/blob/main/Copy_of_POCmanju.ipynb\" target=\"_parent\"><img src=\"https://colab.research.google.com/assets/colab-badge.svg\" alt=\"Open In Colab\"/></a>"
      ]
    },
    {
      "cell_type": "code",
      "source": [
        "!pip install  -Uqq \"google-genai==1.7.0\"\n",
        "!pip install -Uqq newspaper3k lxml_html_clean\n",
        "!pip install -Uqq youtube-transcript-api newspaper3k"
      ],
      "metadata": {
        "trusted": true,
        "execution": {
          "iopub.status.busy": "2025-04-05T06:15:46.856892Z",
          "iopub.execute_input": "2025-04-05T06:15:46.857326Z",
          "iopub.status.idle": "2025-04-05T06:15:59.432879Z",
          "shell.execute_reply.started": "2025-04-05T06:15:46.857283Z",
          "shell.execute_reply": "2025-04-05T06:15:59.431621Z"
        },
        "id": "JMMQr7_qm9Nq"
      },
      "outputs": [],
      "execution_count": 9
    },
    {
      "cell_type": "code",
      "source": [
        "from google import genai\n",
        "from google.genai import types\n",
        "\n",
        "\n",
        "genai.__version__"
      ],
      "metadata": {
        "trusted": true,
        "execution": {
          "iopub.status.busy": "2025-04-05T06:15:59.435583Z",
          "iopub.execute_input": "2025-04-05T06:15:59.436012Z",
          "iopub.status.idle": "2025-04-05T06:15:59.442789Z",
          "shell.execute_reply.started": "2025-04-05T06:15:59.435978Z",
          "shell.execute_reply": "2025-04-05T06:15:59.441783Z"
        },
        "id": "AtQBJB9hm9Nr",
        "outputId": "93cbbae3-05b5-4121-af08-17c1091fb871",
        "colab": {
          "base_uri": "https://localhost:8080/",
          "height": 36
        }
      },
      "outputs": [
        {
          "output_type": "execute_result",
          "data": {
            "text/plain": [
              "'1.7.0'"
            ],
            "application/vnd.google.colaboratory.intrinsic+json": {
              "type": "string"
            }
          },
          "metadata": {},
          "execution_count": 10
        }
      ],
      "execution_count": 10
    },
    {
      "cell_type": "code",
      "source": [
        "from google.colab import userdata\n",
        "GOOGLE_API_KEY=userdata.get('GOOGLE_API_KEY')"
      ],
      "metadata": {
        "trusted": true,
        "execution": {
          "iopub.status.busy": "2025-04-05T06:15:59.44406Z",
          "iopub.execute_input": "2025-04-05T06:15:59.444423Z",
          "iopub.status.idle": "2025-04-05T06:15:59.685811Z",
          "shell.execute_reply.started": "2025-04-05T06:15:59.444383Z",
          "shell.execute_reply": "2025-04-05T06:15:59.684722Z"
        },
        "id": "Ah0CIpPom9Ns"
      },
      "outputs": [],
      "execution_count": 11
    },
    {
      "cell_type": "code",
      "source": [
        "import google.generativeai as genai\n",
        "import os\n",
        "\n",
        "\n",
        "genai.configure(api_key=GOOGLE_API_KEY)\n",
        "\n",
        "# Gemini LLM call\n",
        "def call_llm(prompt: str) -> str:\n",
        "    try:\n",
        "        model = genai.GenerativeModel('gemini-2.0-flash')\n",
        "        response = model.generate_content(prompt)\n",
        "        return response.text\n",
        "    except Exception as e:\n",
        "        return f\"[Gemini API Error: {e}]\"\n"
      ],
      "metadata": {
        "trusted": true,
        "execution": {
          "iopub.status.busy": "2025-04-05T06:15:59.694197Z",
          "iopub.execute_input": "2025-04-05T06:15:59.694557Z",
          "iopub.status.idle": "2025-04-05T06:15:59.719274Z",
          "shell.execute_reply.started": "2025-04-05T06:15:59.694516Z",
          "shell.execute_reply": "2025-04-05T06:15:59.718205Z"
        },
        "id": "LSHSNOfgm9Nv"
      },
      "outputs": [],
      "execution_count": 14
    },
    {
      "cell_type": "code",
      "source": [
        "# News & YouTube Summarizer - Starter Notebook\n",
        "\n",
        "import re\n",
        "import requests\n",
        "from youtube_transcript_api import YouTubeTranscriptApi\n",
        "from newspaper import Article\n",
        "from IPython.display import display, Markdown\n",
        "\n",
        "\n",
        "\n",
        "\n",
        "# Helper to check if URL is YouTube\n",
        "def is_youtube_url(url: str) -> bool:\n",
        "    return 'youtube.com/watch' in url or 'youtu.be/' in url\n",
        "\n",
        "# Extract video ID from YouTube URL\n",
        "def extract_video_id(url: str) -> str:\n",
        "    if 'youtu.be/' in url:\n",
        "        return url.split('/')[-1]\n",
        "    match = re.search(r\"v=([\\w-]+)\", url)\n",
        "    return match.group(1) if match else None\n",
        "\n",
        "def get_youtube_transcript(video_id: str) -> str:\n",
        "    try:\n",
        "        transcript = YouTubeTranscriptApi.get_transcript(video_id)\n",
        "        return \" \".join([entry['text'] for entry in transcript])\n",
        "    except Exception as e:\n",
        "        return \"[Transcript unavailable due to IP restrictions. Please provide transcript manually.]\"\n",
        "\n",
        "\n",
        "\n",
        "# Get article text from news URL\n",
        "def get_news_article_text(url: str) -> str:\n",
        "    try:\n",
        "        article = Article(url)\n",
        "        article.download()\n",
        "        article.parse()\n",
        "        return article.text\n",
        "    except Exception as e:\n",
        "        return f\"[Error fetching article: {e}]\"\n",
        "\n",
        "\n",
        "\n",
        "\n",
        "# --- Manual Transcript Fallback ---\n",
        "def summarize_manual_transcript(transcript: str) -> str:\n",
        "    if not transcript or \"Transcript unavailable\" in transcript:\n",
        "        return \"[No transcript available to summarize.]\"\n",
        "\n",
        "    prompt = (\n",
        "        \"You're a helpful assistant. Summarize the following transcript from a YouTube video. \"\n",
        "        \"Provide a TL;DR followed by 3-5 bullet points for key takeaways.\\n\\n\"\n",
        "        f\"{transcript}\"\n",
        "    )\n",
        "    return call_llm(prompt)\n",
        "\n",
        "# --- Manual Transcript Fallback ---\n",
        "def summarize_content(transcript: str) -> str:\n",
        "    if not transcript or \"Transcript unavailable\" in transcript:\n",
        "        return \"[No transcript available to summarize.]\"\n",
        "\n",
        "    prompt = (\n",
        "        \"You're a helpful assistant. Summarize the following transcript from a YouTube video/an article data. \"\n",
        "        \"Provide a TL;DR followed by 3-5 bullet points for key takeaways.\\n\\n\"\n",
        "        f\"{transcript}\"\n",
        "    )\n",
        "    return call_llm(prompt)\n",
        "\n",
        "def parse_srt_file(file_path: str) -> str:\n",
        "    with open(file_path, 'r', encoding='utf-8') as f:\n",
        "        srt_content = f.read()\n",
        "\n",
        "    # Remove SRT index and timecodes\n",
        "    cleaned = re.sub(r\"\\d+\\n\\d{2}:\\d{2}:\\d{2},\\d{3} --> .*?\\n\", \"\", srt_content)\n",
        "    # Remove empty lines\n",
        "    cleaned = re.sub(r\"\\n{2,}\", \"\\n\", cleaned)\n",
        "    return cleaned.strip()\n",
        "\n",
        "# Main function to handle URL\n",
        "def summarize_url(url: str):\n",
        "    if is_youtube_url(url):\n",
        "        video_id = extract_video_id(url)\n",
        "        if not video_id:\n",
        "            print(\"Invalid YouTube URL.\")\n",
        "            return\n",
        "        print(\"Fetching YouTube transcript...\")\n",
        "        content = get_youtube_transcript(video_id)\n",
        "    else:\n",
        "        print(\"Fetching news article text...\")\n",
        "        content = get_news_article_text(url)\n",
        "\n",
        "    print(\"Generating summary with LLM...\")\n",
        "    summary = summarize_content(content)\n",
        "    display(Markdown(f\"## ✨ Summary\\n{summary}\"))\n",
        "\n",
        "# Example usage (replace with any YouTube or news URL)\n",
        "# summarize_url(\"https://www.youtube.com/watch?v=dQw4w9WgXcQ\")\n",
        "# summarize_url(\"https://www.bbc.com/news/world-asia-68944499\")\n"
      ],
      "metadata": {
        "trusted": true,
        "execution": {
          "iopub.status.busy": "2025-04-05T06:15:59.720717Z",
          "iopub.execute_input": "2025-04-05T06:15:59.721139Z",
          "iopub.status.idle": "2025-04-05T06:15:59.740709Z",
          "shell.execute_reply.started": "2025-04-05T06:15:59.721109Z",
          "shell.execute_reply": "2025-04-05T06:15:59.739497Z"
        },
        "id": "LjHFbjlwm9Nv"
      },
      "outputs": [],
      "execution_count": 18
    },
    {
      "cell_type": "code",
      "source": [
        "# uncomment prompt for user prompts to provide url.\n",
        "\n",
        "#url = input(\"Enter the full path to your YT video/news article: \")\n",
        "url=\"https://www.youtube.com/watch?v=TQd3eGjaTOo\"\n",
        "summarize_url(url)"
      ],
      "metadata": {
        "trusted": true,
        "execution": {
          "iopub.status.busy": "2025-04-05T06:15:59.741836Z",
          "iopub.execute_input": "2025-04-05T06:15:59.74227Z",
          "iopub.status.idle": "2025-04-05T06:16:01.150308Z",
          "shell.execute_reply.started": "2025-04-05T06:15:59.742242Z",
          "shell.execute_reply": "2025-04-05T06:16:01.149126Z"
        },
        "id": "qzlE3z8em9Ny",
        "outputId": "bdd5d9bd-d653-4329-b180-01d78108b388",
        "colab": {
          "base_uri": "https://localhost:8080/",
          "height": 351
        }
      },
      "outputs": [
        {
          "output_type": "stream",
          "name": "stdout",
          "text": [
            "Fetching YouTube transcript...\n",
            "Generating summary with LLM...\n"
          ]
        },
        {
          "output_type": "display_data",
          "data": {
            "text/plain": [
              "<IPython.core.display.Markdown object>"
            ],
            "text/markdown": "## ✨ Summary\nHere's a summary of the transcript:\n\n**TL;DR:** Coding transcends technical skills, offering profound mental transformation. It fosters a growth mindset, clarity, confidence, and disciplined thinking, liberating individuals from limiting circumstances and empowering them to address global challenges.\n\n**Key Takeaways:**\n\n*   **Coding's transformative power:** It's more than just a job skill, it's an activity that can drastically reshape one's mindset and perceptions, fostering confidence and a growth-oriented approach.\n*   **Neuroplasticity and coding:** Learning and debugging code actively restructures the brain, creating new neural pathways that enhance cognitive flexibility and problem-solving abilities in various aspects of life.\n*   **Discipline and Logic:** Coding necessitates precision and adherence to rules, cultivating a meticulous and orderly mindset applicable to real-world situations beyond the digital realm.\n*   **Breaking cycles:** Coding can break cycles of poverty and mediocrity by empowering people to think differently and see new possibilities.\n*   **Beyond Personal Growth:** By cultivating problem-solving skills, it positions individuals to tackle significant global and healthcare challenges, contributing to societal improvement.\n"
          },
          "metadata": {}
        }
      ],
      "execution_count": 22
    },
    {
      "cell_type": "code",
      "source": [
        "#transcript = parse_srt_file(\"/content/sample_data/How coding can change your life_TEDx.srt\")\n",
        "#summary = summarize_manual_transcript(transcript)\n",
        "#display(Markdown(summary))"
      ],
      "metadata": {
        "trusted": true,
        "execution": {
          "iopub.status.busy": "2025-04-05T06:16:01.152895Z",
          "iopub.execute_input": "2025-04-05T06:16:01.153205Z",
          "iopub.status.idle": "2025-04-05T06:16:03.273946Z",
          "shell.execute_reply.started": "2025-04-05T06:16:01.15318Z",
          "shell.execute_reply": "2025-04-05T06:16:03.272952Z"
        },
        "id": "olVkaFQVm9Nz"
      },
      "outputs": [],
      "execution_count": 23
    },
    {
      "cell_type": "code",
      "source": [],
      "metadata": {
        "id": "nWzFFTNip_A7"
      },
      "execution_count": null,
      "outputs": []
    }
  ]
}